{
  "cells": [
    {
      "cell_type": "markdown",
      "id": "b3d08535",
      "metadata": {
        "id": "b3d08535"
      },
      "source": [
        "<img src=\"https://raw.githubusercontent.com/afo/data-x-plaksha/master/imgsource/dx_logo.png\" align=\"left\"></img><br><br><br><br>"
      ]
    },
    {
      "cell_type": "markdown",
      "id": "4c408082",
      "metadata": {
        "id": "4c408082"
      },
      "source": [
        "## Plaksha SQL assignment"
      ]
    },
    {
      "cell_type": "markdown",
      "id": "7f7d4113-c3a9-47b2-b7df-b844d49abd22",
      "metadata": {
        "id": "7f7d4113-c3a9-47b2-b7df-b844d49abd22"
      },
      "source": [
        "---\n",
        "\n",
        "## Submission details:\n",
        "\n",
        "Please submit this as a Jupyter Notebook and a PDF of your results (both should show output). Also push your solutions to Github.\n",
        "\n",
        "For the submision create a local database with `sqlite3` or `sqlalchemy` in a Jupyter notebook and make the queries either with a cursor object (and then print the results) or by using pandas `pd.read_sql_query()`."
      ]
    },
    {
      "cell_type": "markdown",
      "id": "0c551f03-7eff-43e2-89a7-a53b54098223",
      "metadata": {
        "id": "0c551f03-7eff-43e2-89a7-a53b54098223"
      },
      "source": [
        "___\n",
        "\n",
        "When completing this homework you can experiment with SQL commands by utilizing this great online editor:\n",
        "\n",
        "https://www.w3schools.com/sql/trysql.asp?filename=trysql_select_all\n",
        "\n",
        "There are already some tables in the online Database, namely:\n",
        "\n",
        "`Categories, Employees, OrderDetails, Orders, Products, Shippers, and Suppliers.`\n",
        "\n",
        "If you want you can drop them by running  `DROP TABLE [table-name];` (or just keep them)."
      ]
    },
    {
      "cell_type": "markdown",
      "id": "dccc820f-21b0-4b2c-9ca8-9cb9eab76023",
      "metadata": {
        "id": "dccc820f-21b0-4b2c-9ca8-9cb9eab76023"
      },
      "source": [
        "___\n",
        "\n",
        "## Exercises:\n",
        "\n",
        "First create a table called students. It has the columns: 'student_id', 'name', 'major', 'gpa' and 'enrollment_date' We will use a new form of `CREATE TABLE` expression to produce this table.\n",
        "\n",
        "Note that you can improve this and are welcome to do so -- e.g. by specifying for example a PRIMARY KEY and a FOREIGN KEY in Q2 :)\n",
        "\n",
        "    CREATE TABLE students AS\n",
        "        SELECT 1 AS student_id, \"John\" AS name, \"Computer Science\" AS major, 3.5 AS gpa, \"01-01-2022\" AS enrollment_date UNION\n",
        "        SELECT 2, \"Jane\", \"Physics\", 3.8, \"01-02-2022\" UNION\n",
        "        SELECT 3, \"Bob\", \"Engineering\", 3.0, \"01-03-2022\" UNION\n",
        "        SELECT 4, \"Samantha\", \"Physics\", 3.9, \"01-04-2022\" UNION\n",
        "        SELECT 5, \"James\", \"Engineering\", 3.7, \"01-05-2022\" UNION\n",
        "        SELECT 6, \"Emily\", \"Computer Science\", 3.6, \"01-06-2022\" UNION\n",
        "        SELECT 7, \"Michael\", \"Computer Science\", 3.2, \"01-07-2022\" UNION\n",
        "        SELECT 8, \"Jessica\", \"Engineering\", 3.8, \"01-08-2022\" UNION\n",
        "        SELECT 9, \"Jacob\", \"Physics\", 3.4, \"01-09-2022\" UNION\n",
        "        SELECT 10, \"Ashley\", \"Physics\", 3.9, \"01-10-2022\";\n",
        "\n",
        "\n",
        "## Q1 Simple SELECTS (on the students table)\n",
        "1. SELECT all records in the table.\n",
        "2. SELECT students whose major is \"Computer Science\".\n",
        "3. SELECT all unique majors (use SELECT DISTINCT) and order them by name, descending order (i.e. Physics first).\n",
        "4. SELECT all students that have an 'e' in their name and order them by gpa in ascending order.\n",
        "\n",
        "\n",
        "## Q2 Joins\n",
        "\n",
        "Create a new table called courses, which indicates the courses taken by the students. \n",
        "\n",
        "Create the table by running:\n",
        "\t\n",
        "    CREATE TABLE courses AS\n",
        "        SELECT 1 AS course_id, \"Python programming\" AS course_name, 1 AS student_id, \"A\" AS grade UNION\n",
        "        SELECT 2, \"Data Structures\", 2, \"B\" UNION\n",
        "        SELECT 3, \"Database Systems\", 3, \"B\" UNION\n",
        "        SELECT 1, \"Python programming\", 4, \"A\" UNION\n",
        "        SELECT 4, \"Quantum Mechanics\", 5, \"C\" UNION\n",
        "        SELECT 1, \"Python programming\", 6, \"F\" UNION\n",
        "        SELECT 2, \"Data Structures\", 7, \"C\" UNION\n",
        "        SELECT 3, \"Database Systems\", 8, \"A\" UNION\n",
        "        SELECT 4, \"Quantum Mechanics\", 9, \"A\" UNION\n",
        "        SELECT 2, \"Data Structures\", 10, \"F\";\n",
        "\n",
        "1. COUNT the number of unique courses.\n",
        "2. JOIN the tables students and courses and COUNT the number of students with the major Computer Science taking the course Python programming.\n",
        "3. JOIN the tables students and courses and select the students who have grades higher than \"C\", only show their name, major, gpa, course_name and grade.\n",
        "\n",
        "\n",
        "## Q3 Aggregate functions, numerical logic and grouping\n",
        "\n",
        "1. Find the average gpa of all students.\n",
        "2. SELECT the student with the maximum gpa, display only their student_id, major and gpa\n",
        "3. SELECT the student with the minimum gpa, display only their student_id, major and gpa\n",
        "4. SELECT the students with a gpa greater than 3.6 in the majors of \"Physics\" and \"Engineering\", display only their student_id, major and gpa\n",
        "5. Group the students by their major and retrieve the average grade of each major.\n",
        "6. SELECT the top 2 students with the highest GPA in each major and order the results by major in ascending order, then by GPA in descending order"
      ]
    },
    {
      "cell_type": "markdown",
      "id": "3ab84519",
      "metadata": {
        "id": "3ab84519"
      },
      "source": [
        "# Your solution"
      ]
    },
    {
      "cell_type": "markdown",
      "source": [
        "# **Q1**"
      ],
      "metadata": {
        "id": "Ksc_IDtmqeJT"
      },
      "id": "Ksc_IDtmqeJT"
    },
    {
      "cell_type": "code",
      "source": [
        "import sqlite3\n",
        "!ls"
      ],
      "metadata": {
        "colab": {
          "base_uri": "https://localhost:8080/"
        },
        "id": "ZIyA7jmnnvw7",
        "outputId": "f80a1b70-b18f-46dc-e4f6-1b92d8e2a71d"
      },
      "id": "ZIyA7jmnnvw7",
      "execution_count": 1,
      "outputs": [
        {
          "output_type": "stream",
          "name": "stdout",
          "text": [
            "sample_data  student  students.db\n"
          ]
        }
      ]
    },
    {
      "cell_type": "code",
      "source": [
        "connection = sqlite3.connect('students.db')\n",
        "!ls"
      ],
      "metadata": {
        "colab": {
          "base_uri": "https://localhost:8080/"
        },
        "id": "ESh5DuZpn9AZ",
        "outputId": "ab40bb7c-81e2-4f2b-bf82-5a5ac3455bc2"
      },
      "id": "ESh5DuZpn9AZ",
      "execution_count": 2,
      "outputs": [
        {
          "output_type": "stream",
          "name": "stdout",
          "text": [
            "sample_data  student  students.db\n"
          ]
        }
      ]
    },
    {
      "cell_type": "code",
      "source": [
        "cursor =connection.cursor()"
      ],
      "metadata": {
        "id": "ej-FY1edoGh3"
      },
      "id": "ej-FY1edoGh3",
      "execution_count": 4,
      "outputs": []
    },
    {
      "cell_type": "code",
      "execution_count": 5,
      "id": "c7cff114",
      "metadata": {
        "colab": {
          "base_uri": "https://localhost:8080/"
        },
        "id": "c7cff114",
        "outputId": "eece0de8-5ef4-4bc1-aa01-ce61931be707"
      },
      "outputs": [
        {
          "output_type": "execute_result",
          "data": {
            "text/plain": [
              "<sqlite3.Cursor at 0x7f51339a33b0>"
            ]
          },
          "metadata": {},
          "execution_count": 5
        }
      ],
      "source": [
        "cursor.execute(\"DROP TABLE IF EXISTS student;\")"
      ]
    },
    {
      "cell_type": "code",
      "source": [
        "sql_command=\"\"\"\n",
        "CREATE TABLE students AS\n",
        " SELECT 1 AS student_id, \"John\" AS name, \"Computer Science\" AS major, 3.5 AS gpa, \"01-01-2022\" AS\n",
        "enrollment_date UNION\n",
        " SELECT 2, \"Jane\", \"Physics\", 3.8, \"01-02-2022\" UNION\n",
        " SELECT 3, \"Bob\", \"Engineering\", 3.0, \"01-03-2022\" UNION\n",
        " SELECT 4, \"Samantha\", \"Physics\", 3.9, \"01-04-2022\" UNION\n",
        " SELECT 5, \"James\", \"Engineering\", 3.7, \"01-05-2022\" UNION\n",
        " SELECT 6, \"Emily\", \"Computer Science\", 3.6, \"01-06-2022\" UNION\n",
        " SELECT 7, \"Michael\", \"Computer Science\", 3.2, \"01-07-2022\" UNION\n",
        " SELECT 8, \"Jessica\", \"Engineering\", 3.8, \"01-08-2022\" UNION\n",
        " SELECT 9, \"Jacob\", \"Physics\", 3.4, \"01-09-2022\" UNION\n",
        " SELECT 10, \"Ashley\", \"Physics\", 3.9, \"01-10-2022\";\n",
        " \"\"\""
      ],
      "metadata": {
        "id": "io-16TMNpGk9"
      },
      "id": "io-16TMNpGk9",
      "execution_count": 6,
      "outputs": []
    },
    {
      "cell_type": "code",
      "source": [
        "cursor.execute(sql_command)"
      ],
      "metadata": {
        "colab": {
          "base_uri": "https://localhost:8080/"
        },
        "id": "tIyKt82zpUMY",
        "outputId": "fd951f16-c899-4911-d251-2dc4d3fc97e3"
      },
      "id": "tIyKt82zpUMY",
      "execution_count": 7,
      "outputs": [
        {
          "output_type": "execute_result",
          "data": {
            "text/plain": [
              "<sqlite3.Cursor at 0x7f51339a33b0>"
            ]
          },
          "metadata": {},
          "execution_count": 7
        }
      ]
    },
    {
      "cell_type": "code",
      "source": [
        "cursor.execute('SELECT * FROM students;').fetchall()"
      ],
      "metadata": {
        "colab": {
          "base_uri": "https://localhost:8080/"
        },
        "id": "zi5FPDpfprhn",
        "outputId": "fd0ea80a-0ab7-4bd5-d4c4-768d8027195d"
      },
      "id": "zi5FPDpfprhn",
      "execution_count": 8,
      "outputs": [
        {
          "output_type": "execute_result",
          "data": {
            "text/plain": [
              "[(1, 'John', 'Computer Science', 3.5, '01-01-2022'),\n",
              " (2, 'Jane', 'Physics', 3.8, '01-02-2022'),\n",
              " (3, 'Bob', 'Engineering', 3.0, '01-03-2022'),\n",
              " (4, 'Samantha', 'Physics', 3.9, '01-04-2022'),\n",
              " (5, 'James', 'Engineering', 3.7, '01-05-2022'),\n",
              " (6, 'Emily', 'Computer Science', 3.6, '01-06-2022'),\n",
              " (7, 'Michael', 'Computer Science', 3.2, '01-07-2022'),\n",
              " (8, 'Jessica', 'Engineering', 3.8, '01-08-2022'),\n",
              " (9, 'Jacob', 'Physics', 3.4, '01-09-2022'),\n",
              " (10, 'Ashley', 'Physics', 3.9, '01-10-2022')]"
            ]
          },
          "metadata": {},
          "execution_count": 8
        }
      ]
    },
    {
      "cell_type": "code",
      "source": [
        "cursor.execute('SELECT * FROM students WHERE major==\"Computer Science\";').fetchall()"
      ],
      "metadata": {
        "colab": {
          "base_uri": "https://localhost:8080/"
        },
        "id": "TJUCA_aYpvPp",
        "outputId": "af860b15-6577-46eb-bb98-e3c37263df85"
      },
      "id": "TJUCA_aYpvPp",
      "execution_count": 10,
      "outputs": [
        {
          "output_type": "execute_result",
          "data": {
            "text/plain": [
              "[(1, 'John', 'Computer Science', 3.5, '01-01-2022'),\n",
              " (6, 'Emily', 'Computer Science', 3.6, '01-06-2022'),\n",
              " (7, 'Michael', 'Computer Science', 3.2, '01-07-2022')]"
            ]
          },
          "metadata": {},
          "execution_count": 10
        }
      ]
    },
    {
      "cell_type": "code",
      "source": [
        "cursor.execute('SELECT DISTINCT major FROM students ORDER BY major DESC ;').fetchall()"
      ],
      "metadata": {
        "colab": {
          "base_uri": "https://localhost:8080/"
        },
        "id": "SmxDzdkep67U",
        "outputId": "a8c6d4b0-eb06-420f-ac82-bbb14c3082dc"
      },
      "id": "SmxDzdkep67U",
      "execution_count": 11,
      "outputs": [
        {
          "output_type": "execute_result",
          "data": {
            "text/plain": [
              "[('Physics',), ('Engineering',), ('Computer Science',)]"
            ]
          },
          "metadata": {},
          "execution_count": 11
        }
      ]
    },
    {
      "cell_type": "code",
      "source": [
        "cursor.execute(\"SELECT name, gpa FROM students WHERE name LIKE '%e%' OR name LIKE '%E%' ORDER BY gpa ;\").fetchall()"
      ],
      "metadata": {
        "colab": {
          "base_uri": "https://localhost:8080/"
        },
        "id": "WDgoNkL1q84G",
        "outputId": "c8e20036-16f3-459a-e042-7c5789ca506b"
      },
      "id": "WDgoNkL1q84G",
      "execution_count": 16,
      "outputs": [
        {
          "output_type": "execute_result",
          "data": {
            "text/plain": [
              "[('Michael', 3.2),\n",
              " ('Emily', 3.6),\n",
              " ('James', 3.7),\n",
              " ('Jane', 3.8),\n",
              " ('Jessica', 3.8),\n",
              " ('Ashley', 3.9)]"
            ]
          },
          "metadata": {},
          "execution_count": 16
        }
      ]
    },
    {
      "cell_type": "markdown",
      "source": [
        "# **Q2**"
      ],
      "metadata": {
        "id": "66gLtQieqgko"
      },
      "id": "66gLtQieqgko"
    },
    {
      "cell_type": "code",
      "source": [
        "sql_command=\"\"\"\n",
        "CREATE TABLE courses AS\n",
        " SELECT 1 AS course_id, \"Python programming\" AS course_name, 1 AS student_id, \"A\" AS grade UNION\n",
        " SELECT 2, \"Data Structures\", 2, \"B\" UNION\n",
        " SELECT 3, \"Database Systems\", 3, \"B\" UNION\n",
        " SELECT 1, \"Python programming\", 4, \"A\" UNION\n",
        " SELECT 4, \"Quantum Mechanics\", 5, \"C\" UNION\n",
        " SELECT 1, \"Python programming\", 6, \"F\" UNION\n",
        " SELECT 2, \"Data Structures\", 7, \"C\" UNION\n",
        " SELECT 3, \"Database Systems\", 8, \"A\" UNION\n",
        " SELECT 4, \"Quantum Mechanics\", 9, \"A\" UNION\n",
        " SELECT 2, \"Data Structures\", 10, \"F\";\n",
        "\"\"\""
      ],
      "metadata": {
        "id": "vr3cR49-qW_n"
      },
      "id": "vr3cR49-qW_n",
      "execution_count": 13,
      "outputs": []
    },
    {
      "cell_type": "code",
      "source": [
        "cursor.execute(sql_command)"
      ],
      "metadata": {
        "colab": {
          "base_uri": "https://localhost:8080/"
        },
        "id": "cldqY5R8quIX",
        "outputId": "604968ab-8802-4494-c34d-32d5dbb73ff1"
      },
      "id": "cldqY5R8quIX",
      "execution_count": 14,
      "outputs": [
        {
          "output_type": "execute_result",
          "data": {
            "text/plain": [
              "<sqlite3.Cursor at 0x7f51339a33b0>"
            ]
          },
          "metadata": {},
          "execution_count": 14
        }
      ]
    },
    {
      "cell_type": "code",
      "source": [
        "cursor.execute('SELECT * from courses;').fetchall() "
      ],
      "metadata": {
        "colab": {
          "base_uri": "https://localhost:8080/"
        },
        "id": "KfFMAR-UqvxN",
        "outputId": "20cefe04-8669-4e2e-8686-eac95d9d6920"
      },
      "id": "KfFMAR-UqvxN",
      "execution_count": 31,
      "outputs": [
        {
          "output_type": "execute_result",
          "data": {
            "text/plain": [
              "[(1, 'Python programming', 1, 'A'),\n",
              " (1, 'Python programming', 4, 'A'),\n",
              " (1, 'Python programming', 6, 'F'),\n",
              " (2, 'Data Structures', 2, 'B'),\n",
              " (2, 'Data Structures', 7, 'C'),\n",
              " (2, 'Data Structures', 10, 'F'),\n",
              " (3, 'Database Systems', 3, 'B'),\n",
              " (3, 'Database Systems', 8, 'A'),\n",
              " (4, 'Quantum Mechanics', 5, 'C'),\n",
              " (4, 'Quantum Mechanics', 9, 'A')]"
            ]
          },
          "metadata": {},
          "execution_count": 31
        }
      ]
    },
    {
      "cell_type": "code",
      "source": [
        "cursor.execute('SELECT COUNT(DISTINCT course_name) FROM courses;').fetchone()"
      ],
      "metadata": {
        "colab": {
          "base_uri": "https://localhost:8080/"
        },
        "id": "UGGwwaypqx51",
        "outputId": "fa27860d-5910-42eb-85fe-12727192a414"
      },
      "id": "UGGwwaypqx51",
      "execution_count": 28,
      "outputs": [
        {
          "output_type": "execute_result",
          "data": {
            "text/plain": [
              "(4,)"
            ]
          },
          "metadata": {},
          "execution_count": 28
        }
      ]
    },
    {
      "cell_type": "code",
      "source": [
        "cursor.execute('SELECT COUNT(students.major) FROM students INNER JOIN courses ON students.student_id=courses.student_id WHERE students.major==\"Computer Science\" AND courses.course_name==\"Python programming\" ;').fetchall()"
      ],
      "metadata": {
        "colab": {
          "base_uri": "https://localhost:8080/"
        },
        "id": "suBjWJE7rYea",
        "outputId": "60b7c7b7-e88b-446b-9b52-09dde88791a0"
      },
      "id": "suBjWJE7rYea",
      "execution_count": 19,
      "outputs": [
        {
          "output_type": "execute_result",
          "data": {
            "text/plain": [
              "[(2,)]"
            ]
          },
          "metadata": {},
          "execution_count": 19
        }
      ]
    },
    {
      "cell_type": "code",
      "source": [
        "cursor.execute('SELECT students.name, students.major, students.gpa, courses.course_name, courses.grade FROM students INNER JOIN courses ON students.student_id=courses.student_id WHERE courses.grade<\"C\" ;').fetchall()"
      ],
      "metadata": {
        "colab": {
          "base_uri": "https://localhost:8080/"
        },
        "id": "YxFn8n_KrlFM",
        "outputId": "9fe059a7-46a8-4b31-f7b9-746571be0b7c"
      },
      "id": "YxFn8n_KrlFM",
      "execution_count": 20,
      "outputs": [
        {
          "output_type": "execute_result",
          "data": {
            "text/plain": [
              "[('John', 'Computer Science', 3.5, 'Python programming', 'A'),\n",
              " ('Samantha', 'Physics', 3.9, 'Python programming', 'A'),\n",
              " ('Jane', 'Physics', 3.8, 'Data Structures', 'B'),\n",
              " ('Bob', 'Engineering', 3.0, 'Database Systems', 'B'),\n",
              " ('Jessica', 'Engineering', 3.8, 'Database Systems', 'A'),\n",
              " ('Jacob', 'Physics', 3.4, 'Quantum Mechanics', 'A')]"
            ]
          },
          "metadata": {},
          "execution_count": 20
        }
      ]
    },
    {
      "cell_type": "markdown",
      "source": [
        "# **Q3**"
      ],
      "metadata": {
        "id": "kJRVlDk0sb0H"
      },
      "id": "kJRVlDk0sb0H"
    },
    {
      "cell_type": "code",
      "source": [
        "cursor.execute(\"SELECT AVG(gpa) FROM students\")\n",
        "print(\"Average GPA:\", cursor.fetchone()[0])\n"
      ],
      "metadata": {
        "colab": {
          "base_uri": "https://localhost:8080/"
        },
        "id": "8aeXPHtnrrK8",
        "outputId": "bfdfd966-6adc-48a4-813d-2d45074f528c"
      },
      "id": "8aeXPHtnrrK8",
      "execution_count": 22,
      "outputs": [
        {
          "output_type": "stream",
          "name": "stdout",
          "text": [
            "Average GPA: 3.5800000000000005\n"
          ]
        }
      ]
    },
    {
      "cell_type": "code",
      "source": [
        "cursor.execute(\"SELECT student_id, major, gpa FROM students WHERE gpa = (SELECT MAX(gpa) FROM students)\")\n",
        "print(\"Student with maximum GPA:\", cursor.fetchall())"
      ],
      "metadata": {
        "colab": {
          "base_uri": "https://localhost:8080/"
        },
        "id": "dCDtmVfItxUD",
        "outputId": "9faa707b-7c80-4bea-ba89-10fab103f0c6"
      },
      "id": "dCDtmVfItxUD",
      "execution_count": 36,
      "outputs": [
        {
          "output_type": "stream",
          "name": "stdout",
          "text": [
            "Student with maximum GPA: [(4, 'Physics', 3.9), (10, 'Physics', 3.9)]\n"
          ]
        }
      ]
    },
    {
      "cell_type": "code",
      "source": [
        "cursor.execute(\"SELECT student_id, major, gpa FROM students WHERE gpa = (SELECT MIN(gpa) FROM students)\")\n",
        "print(\"Student with minimum GPA:\", cursor.fetchall())\n"
      ],
      "metadata": {
        "colab": {
          "base_uri": "https://localhost:8080/"
        },
        "id": "ci40mfCAt4dd",
        "outputId": "59a6321a-5cd6-4ee3-866d-7a7338188433"
      },
      "id": "ci40mfCAt4dd",
      "execution_count": 37,
      "outputs": [
        {
          "output_type": "stream",
          "name": "stdout",
          "text": [
            "Student with minimum GPA: [(3, 'Engineering', 3.0)]\n"
          ]
        }
      ]
    },
    {
      "cell_type": "code",
      "source": [
        "cursor.execute(\"SELECT student_id, major, gpa FROM students WHERE major IN ('Physics', 'Engineering') AND gpa > 3.6\")\n",
        "print(\"Students with GPA greater than 3.6 in Physics and Engineering:\", cursor.fetchall())\n"
      ],
      "metadata": {
        "colab": {
          "base_uri": "https://localhost:8080/"
        },
        "id": "gGQbZxXpt-Sw",
        "outputId": "aba03dab-4cc7-47eb-f923-251abd472f1e"
      },
      "id": "gGQbZxXpt-Sw",
      "execution_count": 34,
      "outputs": [
        {
          "output_type": "stream",
          "name": "stdout",
          "text": [
            "Students with GPA greater than 3.6 in Physics and Engineering: [(2, 'Physics', 3.8), (4, 'Physics', 3.9), (5, 'Engineering', 3.7), (8, 'Engineering', 3.8), (10, 'Physics', 3.9)]\n"
          ]
        }
      ]
    },
    {
      "cell_type": "code",
      "source": [
        "cursor.execute(\"SELECT major, AVG(gpa) FROM students GROUP BY major\")\n",
        "print(\"Average GPA by major:\", cursor.fetchall())"
      ],
      "metadata": {
        "colab": {
          "base_uri": "https://localhost:8080/"
        },
        "id": "dXFWlIUJuHGY",
        "outputId": "b5105eda-a1a4-4dcb-b3fe-e0148a936ceb"
      },
      "id": "dXFWlIUJuHGY",
      "execution_count": 35,
      "outputs": [
        {
          "output_type": "stream",
          "name": "stdout",
          "text": [
            "Average GPA by major: [('Computer Science', 3.4333333333333336), ('Engineering', 3.5), ('Physics', 3.75)]\n"
          ]
        }
      ]
    }
  ],
  "metadata": {
    "kernelspec": {
      "display_name": "Python 3 (ipykernel)",
      "language": "python",
      "name": "python3"
    },
    "language_info": {
      "codemirror_mode": {
        "name": "ipython",
        "version": 3
      },
      "file_extension": ".py",
      "mimetype": "text/x-python",
      "name": "python",
      "nbconvert_exporter": "python",
      "pygments_lexer": "ipython3",
      "version": "3.9.15"
    },
    "colab": {
      "provenance": []
    }
  },
  "nbformat": 4,
  "nbformat_minor": 5
}